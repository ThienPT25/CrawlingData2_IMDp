{
 "cells": [
  {
   "cell_type": "code",
   "execution_count": 1,
   "id": "876f2b84-af29-4c44-bf5d-fb6152d3c543",
   "metadata": {},
   "outputs": [],
   "source": [
    "from pyspark.sql import SparkSession"
   ]
  },
  {
   "cell_type": "code",
   "execution_count": 3,
   "id": "0fa7f05a-dd80-40d9-9cba-7f0d4b8c2fc1",
   "metadata": {},
   "outputs": [],
   "source": [
    "spark = SparkSession.builder.appName('Missing').getOrCreate()"
   ]
  },
  {
   "cell_type": "code",
   "execution_count": 7,
   "id": "05eecbe7-a65e-4eb8-aa60-44510e81d926",
   "metadata": {},
   "outputs": [],
   "source": [
    "training = spark.read.csv('test3.csv', header = True, inferSchema = True)"
   ]
  },
  {
   "cell_type": "code",
   "execution_count": 5,
   "id": "df245624-d8f1-4cf5-b37e-3ec7589fd18c",
   "metadata": {},
   "outputs": [
    {
     "name": "stdout",
     "output_type": "stream",
     "text": [
      "+-----+---+----------+------+\n",
      "| Name|Age|Experience|Salary|\n",
      "+-----+---+----------+------+\n",
      "| Tham| 22|        10| 30000|\n",
      "|Long | 20|         8| 10000|\n",
      "|Thien| 21|         4| 20000|\n",
      "|    A| 29|         8| 25000|\n",
      "|    B| 30|         3| 40000|\n",
      "|    C| 40|         1| 15000|\n",
      "+-----+---+----------+------+\n",
      "\n"
     ]
    }
   ],
   "source": [
    "training.show()"
   ]
  },
  {
   "cell_type": "code",
   "execution_count": 6,
   "id": "9047d865-805d-4b4f-8ffd-ddb498dfd437",
   "metadata": {},
   "outputs": [
    {
     "name": "stdout",
     "output_type": "stream",
     "text": [
      "root\n",
      " |-- Name: string (nullable = true)\n",
      " |-- Age: integer (nullable = true)\n",
      " |-- Experience: integer (nullable = true)\n",
      " |-- Salary: integer (nullable = true)\n",
      "\n"
     ]
    }
   ],
   "source": [
    "training.printSchema()"
   ]
  },
  {
   "cell_type": "code",
   "execution_count": 9,
   "id": "87ce389a-ce55-4a7e-96a4-89bed8c4b2e6",
   "metadata": {},
   "outputs": [],
   "source": [
    "# Gọi ra vecto\n",
    "from pyspark.ml.feature import VectorAssembler\n",
    "featureassembler = VectorAssembler(inputCols = ['Age', 'Experience'],\n",
    "                                  outputCol = 'Independent Features')"
   ]
  },
  {
   "cell_type": "code",
   "execution_count": 10,
   "id": "c457d467-1bc5-495c-902e-6c9d180c0c7c",
   "metadata": {},
   "outputs": [
    {
     "name": "stdout",
     "output_type": "stream",
     "text": [
      "+-----+---+----------+------+--------------------+\n",
      "| Name|Age|Experience|Salary|Independent Features|\n",
      "+-----+---+----------+------+--------------------+\n",
      "| Tham| 22|        10| 30000|         [22.0,10.0]|\n",
      "|Long | 20|         8| 10000|          [20.0,8.0]|\n",
      "|Thien| 21|         4| 20000|          [21.0,4.0]|\n",
      "|    A| 29|         8| 25000|          [29.0,8.0]|\n",
      "|    B| 30|         3| 40000|          [30.0,3.0]|\n",
      "|    C| 40|         1| 15000|          [40.0,1.0]|\n",
      "+-----+---+----------+------+--------------------+\n",
      "\n"
     ]
    }
   ],
   "source": [
    "output = featureassembler.transform(training)\n",
    "output.show()"
   ]
  },
  {
   "cell_type": "code",
   "execution_count": 11,
   "id": "a47ee2f2-bad8-457e-8b39-ff793ba46ffa",
   "metadata": {},
   "outputs": [
    {
     "data": {
      "text/plain": [
       "['Name', 'Age', 'Experience', 'Salary', 'Independent Features']"
      ]
     },
     "execution_count": 11,
     "metadata": {},
     "output_type": "execute_result"
    }
   ],
   "source": [
    "output.columns"
   ]
  },
  {
   "cell_type": "code",
   "execution_count": 12,
   "id": "c3ec432a-64d7-4c5c-bc71-2ff85d56fb9b",
   "metadata": {},
   "outputs": [
    {
     "name": "stdout",
     "output_type": "stream",
     "text": [
      "+--------------------+------+\n",
      "|Independent Features|Salary|\n",
      "+--------------------+------+\n",
      "|         [22.0,10.0]| 30000|\n",
      "|          [20.0,8.0]| 10000|\n",
      "|          [21.0,4.0]| 20000|\n",
      "|          [29.0,8.0]| 25000|\n",
      "|          [30.0,3.0]| 40000|\n",
      "|          [40.0,1.0]| 15000|\n",
      "+--------------------+------+\n",
      "\n"
     ]
    }
   ],
   "source": [
    "finalized_data = output.select('Independent Features', 'Salary')\n",
    "finalized_data.show()"
   ]
  },
  {
   "cell_type": "code",
   "execution_count": 14,
   "id": "d8b461a3-09a6-4b5d-9131-89b8335689be",
   "metadata": {},
   "outputs": [],
   "source": [
    "from pyspark.ml.regression import LinearRegression\n",
    "# Train test split\n",
    "train_data, test_data = finalized_data.randomSplit([0.75, 0.25])\n",
    "regressor = LinearRegression(featuresCol = 'Independent Features',\n",
    "                            labelCol = 'Salary')\n",
    "regressor = regressor.fit(train_data)"
   ]
  },
  {
   "cell_type": "code",
   "execution_count": 15,
   "id": "92dcb812-1396-4e19-be72-e46eec9d01f9",
   "metadata": {},
   "outputs": [
    {
     "data": {
      "text/plain": [
       "DenseVector([1657.0439, -374.567])"
      ]
     },
     "execution_count": 15,
     "metadata": {},
     "output_type": "execute_result"
    }
   ],
   "source": [
    "# Coefficients\n",
    "regressor.coefficients"
   ]
  },
  {
   "cell_type": "code",
   "execution_count": 16,
   "id": "68d423ff-61fb-416d-b905-4f6164b5bcfb",
   "metadata": {},
   "outputs": [
    {
     "data": {
      "text/plain": [
       "-12959.72863741355"
      ]
     },
     "execution_count": 16,
     "metadata": {},
     "output_type": "execute_result"
    }
   ],
   "source": [
    "# Intercepts\n",
    "regressor.intercept"
   ]
  },
  {
   "cell_type": "code",
   "execution_count": 17,
   "id": "1eb24826-482e-47df-b6c0-b95c29c9eaf5",
   "metadata": {},
   "outputs": [
    {
     "name": "stdout",
     "output_type": "stream",
     "text": [
      "+--------------------+------+------------------+\n",
      "|Independent Features|Salary|        prediction|\n",
      "+--------------------+------+------------------+\n",
      "|          [40.0,1.0]| 15000|52947.459584295655|\n",
      "+--------------------+------+------------------+\n",
      "\n"
     ]
    }
   ],
   "source": [
    "# Prediction\n",
    "pred_results = regressor.evaluate(test_data)\n",
    "pred_results.predictions.show()"
   ]
  }
 ],
 "metadata": {
  "kernelspec": {
   "display_name": "Python 3 (ipykernel)",
   "language": "python",
   "name": "python3"
  },
  "language_info": {
   "codemirror_mode": {
    "name": "ipython",
    "version": 3
   },
   "file_extension": ".py",
   "mimetype": "text/x-python",
   "name": "python",
   "nbconvert_exporter": "python",
   "pygments_lexer": "ipython3",
   "version": "3.9.12"
  }
 },
 "nbformat": 4,
 "nbformat_minor": 5
}
