{
 "cells": [
  {
   "cell_type": "markdown",
   "id": "e197bbc8-75b9-49b7-9f3c-c86b0e3ed9b9",
   "metadata": {},
   "source": [
    "# Pyspark Dataframes\n",
    "### Filter Operation\n",
    "### &, |, ==\n",
    "### ~"
   ]
  },
  {
   "cell_type": "code",
   "execution_count": 3,
   "id": "bb102a3d-b2cc-4dc8-99e4-73a0d45b72ef",
   "metadata": {},
   "outputs": [],
   "source": [
    "from pyspark.sql import SparkSession"
   ]
  },
  {
   "cell_type": "code",
   "execution_count": 4,
   "id": "fdd42515-1fc9-4413-82a8-0cbc8017a189",
   "metadata": {},
   "outputs": [],
   "source": [
    "spark = SparkSession.builder.appName('dataframe').getOrCreate()"
   ]
  },
  {
   "cell_type": "code",
   "execution_count": null,
   "id": "e8236426-85a4-4994-8372-a3cc7249f960",
   "metadata": {},
   "outputs": [
    {
     "name": "stdout",
     "output_type": "stream",
     "text": [
      "+-----+---+----------+------+\n",
      "| Name|Age|Experience|Salary|\n",
      "+-----+---+----------+------+\n",
      "| Tham| 22|        10| 30000|\n",
      "|Long | 20|         8| 10000|\n",
      "|Thien| 21|         4| 20000|\n",
      "|    A| 29|         8| 25000|\n",
      "|    B| 30|         3| 40000|\n",
      "|    C| 40|         1| 15000|\n",
      "+-----+---+----------+------+\n",
      "\n"
     ]
    }
   ],
   "source": [
    "df_pyspark = spark.read.csv('test3.csv', header = True, inferSchema = True)\n",
    "df_pyspark.show()"
   ]
  },
  {
   "cell_type": "markdown",
   "id": "c5ea76f2-188d-4000-b08b-dd08d198f79f",
   "metadata": {},
   "source": [
    "### Filter Operations"
   ]
  },
  {
   "cell_type": "code",
   "execution_count": 10,
   "id": "e4cd0af1-5d09-4ecb-bbb8-5f66b175b8af",
   "metadata": {},
   "outputs": [
    {
     "name": "stdout",
     "output_type": "stream",
     "text": [
      "+-----+---+----------+------+\n",
      "| Name|Age|Experience|Salary|\n",
      "+-----+---+----------+------+\n",
      "|Long | 20|         8| 10000|\n",
      "|    C| 40|         1| 15000|\n",
      "+-----+---+----------+------+\n",
      "\n"
     ]
    }
   ],
   "source": [
    "### Salary of the people less than or equal to 20000\n",
    "df_pyspark.filter(\"Salary < 20000\").show()"
   ]
  },
  {
   "cell_type": "code",
   "execution_count": 13,
   "id": "afd71b5a-00d5-4cd2-ad69-16fefa340943",
   "metadata": {},
   "outputs": [
    {
     "name": "stdout",
     "output_type": "stream",
     "text": [
      "+-----+---+\n",
      "| Name|Age|\n",
      "+-----+---+\n",
      "|Long | 20|\n",
      "|Thien| 21|\n",
      "|    A| 29|\n",
      "|    C| 40|\n",
      "+-----+---+\n",
      "\n"
     ]
    }
   ],
   "source": [
    "df_pyspark.filter('Salary < 30000').select(['Name', 'Age']).show()"
   ]
  },
  {
   "cell_type": "code",
   "execution_count": 15,
   "id": "e4a93718-32b2-4eca-9b67-1e53565ab9ad",
   "metadata": {},
   "outputs": [
    {
     "name": "stdout",
     "output_type": "stream",
     "text": [
      "+-----+---+----------+------+\n",
      "| Name|Age|Experience|Salary|\n",
      "+-----+---+----------+------+\n",
      "| Tham| 22|        10| 30000|\n",
      "|Long | 20|         8| 10000|\n",
      "|Thien| 21|         4| 20000|\n",
      "|    A| 29|         8| 25000|\n",
      "|    C| 40|         1| 15000|\n",
      "+-----+---+----------+------+\n",
      "\n"
     ]
    }
   ],
   "source": [
    "# Nên dùng cách này để show dữ liệu\n",
    "df_pyspark.filter((df_pyspark['Salary'] <= 30000)).show()"
   ]
  },
  {
   "cell_type": "code",
   "execution_count": 18,
   "id": "240576cc-a24a-47ba-8a1a-873a06dfb42e",
   "metadata": {},
   "outputs": [
    {
     "name": "stdout",
     "output_type": "stream",
     "text": [
      "+-----+---+----------+------+\n",
      "| Name|Age|Experience|Salary|\n",
      "+-----+---+----------+------+\n",
      "| Tham| 22|        10| 30000|\n",
      "|Thien| 21|         4| 20000|\n",
      "|    A| 29|         8| 25000|\n",
      "|    C| 40|         1| 15000|\n",
      "+-----+---+----------+------+\n",
      "\n"
     ]
    }
   ],
   "source": [
    "# &: Là dấu và\n",
    "df_pyspark.filter((df_pyspark['Salary'] <= 30000) &\n",
    "                  (df_pyspark['Salary'] >= 15000)).show()"
   ]
  },
  {
   "cell_type": "code",
   "execution_count": 19,
   "id": "ea3bf46b-89b0-4735-8135-1a17b9723139",
   "metadata": {},
   "outputs": [
    {
     "name": "stdout",
     "output_type": "stream",
     "text": [
      "+-----+---+----------+------+\n",
      "| Name|Age|Experience|Salary|\n",
      "+-----+---+----------+------+\n",
      "| Tham| 22|        10| 30000|\n",
      "|Long | 20|         8| 10000|\n",
      "|Thien| 21|         4| 20000|\n",
      "|    A| 29|         8| 25000|\n",
      "|    B| 30|         3| 40000|\n",
      "|    C| 40|         1| 15000|\n",
      "+-----+---+----------+------+\n",
      "\n"
     ]
    }
   ],
   "source": [
    "# |: Là dấu hoặc\n",
    "df_pyspark.filter((df_pyspark['Salary'] <= 30000) |\n",
    "                  (df_pyspark['Salary'] >= 15000)).show()"
   ]
  },
  {
   "cell_type": "code",
   "execution_count": 22,
   "id": "463281cc-919c-4c56-8c1d-dd82a1c2230b",
   "metadata": {},
   "outputs": [
    {
     "name": "stdout",
     "output_type": "stream",
     "text": [
      "+----+---+----------+------+\n",
      "|Name|Age|Experience|Salary|\n",
      "+----+---+----------+------+\n",
      "|   B| 30|         3| 40000|\n",
      "+----+---+----------+------+\n",
      "\n"
     ]
    }
   ],
   "source": [
    "# ~: Nghịch đảo với dữ liệu\n",
    "df_pyspark.filter(~(df_pyspark['Salary'] <= 30000)).show()"
   ]
  }
 ],
 "metadata": {
  "kernelspec": {
   "display_name": "Python 3 (ipykernel)",
   "language": "python",
   "name": "python3"
  },
  "language_info": {
   "codemirror_mode": {
    "name": "ipython",
    "version": 3
   },
   "file_extension": ".py",
   "mimetype": "text/x-python",
   "name": "python",
   "nbconvert_exporter": "python",
   "pygments_lexer": "ipython3",
   "version": "3.9.12"
  }
 },
 "nbformat": 4,
 "nbformat_minor": 5
}
