{
 "cells": [
  {
   "cell_type": "markdown",
   "id": "53e39c1f-b44b-4c46-b254-d6d1c80c34c6",
   "metadata": {},
   "source": [
    "# Pyspark Handing Missing Values\n",
    "### Dropping Columns\n",
    "### Dropping Rows\n",
    "### Various Parameter In Dropping functionalities\n",
    "### Handing Missing values by Mean, MEdian And Mode"
   ]
  },
  {
   "cell_type": "code",
   "execution_count": 1,
   "id": "6922996e-a061-4844-b754-2ec62a078915",
   "metadata": {},
   "outputs": [],
   "source": [
    "from pyspark.sql import SparkSession\n",
    "spark = SparkSession.builder.appName('Practice').getOrCreate()"
   ]
  },
  {
   "cell_type": "code",
   "execution_count": 2,
   "id": "2e4ff832-dfed-4576-9aa8-78b27df24ff2",
   "metadata": {},
   "outputs": [],
   "source": [
    "df_pyspark = spark.read.csv('test2.csv', header = True, inferSchema = True)"
   ]
  },
  {
   "cell_type": "code",
   "execution_count": 3,
   "id": "e9a04074-f84c-4671-a4a7-94cee900c94a",
   "metadata": {},
   "outputs": [
    {
     "data": {
      "text/plain": [
       "DataFrame[Name: string, Age: int, Experience: int, Salary: int]"
      ]
     },
     "execution_count": 3,
     "metadata": {},
     "output_type": "execute_result"
    }
   ],
   "source": [
    "df_pyspark"
   ]
  },
  {
   "cell_type": "code",
   "execution_count": 4,
   "id": "f5c5bdb5-316b-430f-a3ad-4c9cb1573b1d",
   "metadata": {},
   "outputs": [
    {
     "name": "stdout",
     "output_type": "stream",
     "text": [
      "+----+----------+------+\n",
      "| Age|Experience|Salary|\n",
      "+----+----------+------+\n",
      "|  22|        10| 30000|\n",
      "|  20|         8| 10000|\n",
      "|  21|         4| 20000|\n",
      "|  29|         8| 25000|\n",
      "|  30|         3| 40000|\n",
      "|  40|         1| 15000|\n",
      "|null|      null| 38000|\n",
      "|  34|        10|  5000|\n",
      "|  35|      null|  null|\n",
      "+----+----------+------+\n",
      "\n"
     ]
    }
   ],
   "source": [
    "# drop the columns\n",
    "df_pyspark.drop('Name').show()"
   ]
  },
  {
   "cell_type": "code",
   "execution_count": 5,
   "id": "437c1587-bc6f-4da6-bc47-0d5c5d941fee",
   "metadata": {},
   "outputs": [
    {
     "name": "stdout",
     "output_type": "stream",
     "text": [
      "+-----+---+----------+------+\n",
      "| Name|Age|Experience|Salary|\n",
      "+-----+---+----------+------+\n",
      "| Tham| 22|        10| 30000|\n",
      "|Long | 20|         8| 10000|\n",
      "|Thien| 21|         4| 20000|\n",
      "|    A| 29|         8| 25000|\n",
      "|    B| 30|         3| 40000|\n",
      "|    C| 40|         1| 15000|\n",
      "+-----+---+----------+------+\n",
      "\n"
     ]
    }
   ],
   "source": [
    "# Drop null\n",
    "df_pyspark.na.drop().show()"
   ]
  },
  {
   "cell_type": "code",
   "execution_count": 6,
   "id": "d4397a16-681f-42ce-98cb-53d5b9402098",
   "metadata": {},
   "outputs": [
    {
     "name": "stdout",
     "output_type": "stream",
     "text": [
      "+-----+----+----------+------+\n",
      "| Name| Age|Experience|Salary|\n",
      "+-----+----+----------+------+\n",
      "| Tham|  22|        10| 30000|\n",
      "|Long |  20|         8| 10000|\n",
      "|Thien|  21|         4| 20000|\n",
      "|    A|  29|         8| 25000|\n",
      "|    B|  30|         3| 40000|\n",
      "|    C|  40|         1| 15000|\n",
      "|    D|null|      null| 38000|\n",
      "| null|  34|        10|  5000|\n",
      "| null|  35|      null|  null|\n",
      "+-----+----+----------+------+\n",
      "\n"
     ]
    }
   ],
   "source": [
    "# any = how\n",
    "df_pyspark.na.drop(how='all').show()"
   ]
  },
  {
   "cell_type": "code",
   "execution_count": 7,
   "id": "20cf4869-09d4-4ae1-a1e0-126d79cd7f14",
   "metadata": {},
   "outputs": [
    {
     "name": "stdout",
     "output_type": "stream",
     "text": [
      "+-----+---+----------+------+\n",
      "| Name|Age|Experience|Salary|\n",
      "+-----+---+----------+------+\n",
      "| Tham| 22|        10| 30000|\n",
      "|Long | 20|         8| 10000|\n",
      "|Thien| 21|         4| 20000|\n",
      "|    A| 29|         8| 25000|\n",
      "|    B| 30|         3| 40000|\n",
      "|    C| 40|         1| 15000|\n",
      "+-----+---+----------+------+\n",
      "\n"
     ]
    }
   ],
   "source": [
    "df_pyspark.na.drop(how='any').show()"
   ]
  },
  {
   "cell_type": "code",
   "execution_count": 8,
   "id": "49cc86d7-5613-4ed9-8731-7604f2feb7b3",
   "metadata": {},
   "outputs": [
    {
     "name": "stdout",
     "output_type": "stream",
     "text": [
      "+-----+----+----------+------+\n",
      "| Name| Age|Experience|Salary|\n",
      "+-----+----+----------+------+\n",
      "| Tham|  22|        10| 30000|\n",
      "|Long |  20|         8| 10000|\n",
      "|Thien|  21|         4| 20000|\n",
      "|    A|  29|         8| 25000|\n",
      "|    B|  30|         3| 40000|\n",
      "|    C|  40|         1| 15000|\n",
      "|    D|null|      null| 38000|\n",
      "| null|  34|        10|  5000|\n",
      "+-----+----+----------+------+\n",
      "\n"
     ]
    }
   ],
   "source": [
    "# Threshold -- Phải có ít nhất 2 giá trị không null\n",
    "df_pyspark.na.drop(how = 'any', thresh = 2).show()"
   ]
  },
  {
   "cell_type": "code",
   "execution_count": 9,
   "id": "a39fdd81-4b16-47ec-95c7-6ee9a11474cf",
   "metadata": {},
   "outputs": [
    {
     "name": "stdout",
     "output_type": "stream",
     "text": [
      "+-----+---+----------+------+\n",
      "| Name|Age|Experience|Salary|\n",
      "+-----+---+----------+------+\n",
      "| Tham| 22|        10| 30000|\n",
      "|Long | 20|         8| 10000|\n",
      "|Thien| 21|         4| 20000|\n",
      "|    A| 29|         8| 25000|\n",
      "|    B| 30|         3| 40000|\n",
      "|    C| 40|         1| 15000|\n",
      "| null| 34|        10|  5000|\n",
      "+-----+---+----------+------+\n",
      "\n"
     ]
    }
   ],
   "source": [
    "# Subset -- Xóa bất cứ dòng nào trong cột Experience có null\n",
    "df_pyspark.na.drop(how = 'any', subset = [\"Experience\"]).show()"
   ]
  },
  {
   "cell_type": "code",
   "execution_count": 10,
   "id": "d907eeba-2484-48ce-bc72-8250a53ac714",
   "metadata": {},
   "outputs": [
    {
     "name": "stdout",
     "output_type": "stream",
     "text": [
      "+--------------+----+----------+------+\n",
      "|          Name| Age|Experience|Salary|\n",
      "+--------------+----+----------+------+\n",
      "|          Tham|  22|        10| 30000|\n",
      "|         Long |  20|         8| 10000|\n",
      "|         Thien|  21|         4| 20000|\n",
      "|             A|  29|         8| 25000|\n",
      "|             B|  30|         3| 40000|\n",
      "|             C|  40|         1| 15000|\n",
      "|             D|null|      null| 38000|\n",
      "|Missing Values|  34|        10|  5000|\n",
      "|Missing Values|  35|      null|  null|\n",
      "+--------------+----+----------+------+\n",
      "\n"
     ]
    }
   ],
   "source": [
    "# Filling the Missing Value\n",
    "df_pyspark.na.fill('Missing Values').show()"
   ]
  },
  {
   "cell_type": "code",
   "execution_count": 16,
   "id": "051f87b9-8750-4ccd-b83f-ebd5e4ab8d17",
   "metadata": {},
   "outputs": [
    {
     "name": "stdout",
     "output_type": "stream",
     "text": [
      "+-----+----+----------+------+-----------+------------------+--------------+\n",
      "| Name| Age|Experience|Salary|Age_imputed|Experience_imputed|Salary_imputed|\n",
      "+-----+----+----------+------+-----------+------------------+--------------+\n",
      "| Tham|  22|        10| 30000|         22|                10|         30000|\n",
      "|Long |  20|         8| 10000|         20|                 8|         10000|\n",
      "|Thien|  21|         4| 20000|         21|                 4|         20000|\n",
      "|    A|  29|         8| 25000|         29|                 8|         25000|\n",
      "|    B|  30|         3| 40000|         30|                 3|         40000|\n",
      "|    C|  40|         1| 15000|         40|                 1|         15000|\n",
      "|    D|null|      null| 38000|         20|                 8|         38000|\n",
      "| null|  34|        10|  5000|         34|                10|          5000|\n",
      "| null|  35|      null|  null|         35|                 8|          5000|\n",
      "+-----+----+----------+------+-----------+------------------+--------------+\n",
      "\n"
     ]
    }
   ],
   "source": [
    "# Mean: Giá trị trung bình của tất cả chỉ số\n",
    "# Median: Giá trị trung vị, Lấy giá trị giữa có làm tròn\n",
    "# Mode: lấy giá trị phổ biến (Như nhau thì lấy giá trị đầu tiên)\n",
    "from pyspark.ml.feature import Imputer\n",
    "\n",
    "imputer = Imputer(\n",
    "    inputCols= ['Age', 'Experience', 'Salary'], \n",
    "    outputCols=[\"{}_imputed\".format(c) for c in ['Age', 'Experience', 'Salary']]\n",
    "    ).setStrategy(\"mode\")\n",
    "\n",
    "# Add imputation cols to df\n",
    "imputer.fit(df_pyspark).transform(df_pyspark).show()"
   ]
  }
 ],
 "metadata": {
  "kernelspec": {
   "display_name": "Python 3 (ipykernel)",
   "language": "python",
   "name": "python3"
  },
  "language_info": {
   "codemirror_mode": {
    "name": "ipython",
    "version": 3
   },
   "file_extension": ".py",
   "mimetype": "text/x-python",
   "name": "python",
   "nbconvert_exporter": "python",
   "pygments_lexer": "ipython3",
   "version": "3.9.12"
  }
 },
 "nbformat": 4,
 "nbformat_minor": 5
}
