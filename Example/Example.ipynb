{
 "cells": [
  {
   "cell_type": "markdown",
   "metadata": {},
   "source": [
    "# Research and development of python for newbie"
   ]
  },
  {
   "cell_type": "markdown",
   "metadata": {},
   "source": [
    "## Import libraries"
   ]
  },
  {
   "cell_type": "code",
   "execution_count": 5,
   "metadata": {},
   "outputs": [],
   "source": [
    "##\n",
    "import math\n",
    "#...."
   ]
  },
  {
   "cell_type": "code",
   "execution_count": 4,
   "metadata": {},
   "outputs": [],
   "source": [
    "# solutions\n",
    "#  https://toidicode.com/cac-toan-tu-co-ban-trong-python-349.html\n",
    "#  https://www.programiz.com/python-programming/function\n",
    "# ..."
   ]
  },
  {
   "cell_type": "markdown",
   "metadata": {},
   "source": [
    "# Exercises\n",
    "1. Viết funtion giải pt bậc 2\n",
    "2. Viết funtion tìm tất cả số nguyên tố theo 1 số cho trc(vd: cho số 49, tìm tất cả số nguyên tố nhỏ hơn hoặc bằng 49)\n",
    "3. Viết funtion tính tổng, tích của 1 mảng cho trc(vd: cho mảng a=[1,2,3,4], thì tổng bằng 10, tích bằng 24)\n",
    "4. Viết funtion xử lý 1 chuỗi ký tự để chuẩn hóa: xóa các space bị dư, trích xuất số từ 1 chuỗi string\n",
    "vd: \"Bán đất tây phú,   hầm hô,  tây sơn, bình định. Khu vực: Xã Tây Phú, Huyện Tây Sơn, Giá: 600 triệuDiện tích: 201m2\"\n",
    "    xóa các khoảng trắng bị dư, trích xuất số = [600,201,2]"
   ]
  },
  {
   "cell_type": "code",
   "execution_count": null,
   "metadata": {},
   "outputs": [],
   "source": []
  }
 ],
 "metadata": {
  "kernelspec": {
   "display_name": "Python 3",
   "language": "python",
   "name": "python3"
  },
  "language_info": {
   "codemirror_mode": {
    "name": "ipython",
    "version": 3
   },
   "file_extension": ".py",
   "mimetype": "text/x-python",
   "name": "python",
   "nbconvert_exporter": "python",
   "pygments_lexer": "ipython3",
   "version": "3.7.1"
  }
 },
 "nbformat": 4,
 "nbformat_minor": 2
}
